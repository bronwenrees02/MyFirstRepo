{
 "cells": [
  {
   "cell_type": "code",
   "execution_count": 1,
   "id": "3046d639-6d60-40be-ad15-27cbaa86e3fd",
   "metadata": {},
   "outputs": [
    {
     "name": "stdout",
     "output_type": "stream",
     "text": [
      "Hello, world\n"
     ]
    }
   ],
   "source": [
    "print (\"Hello, world\")\n"
   ]
  },
  {
   "cell_type": "markdown",
   "id": "831f62d9-c7ea-4977-92da-a497df9521cc",
   "metadata": {},
   "source": [
    "# My first markdown heading"
   ]
  },
  {
   "cell_type": "markdown",
   "id": "a5e50ffd-7f19-4e2d-b304-45fb91081441",
   "metadata": {},
   "source": [
    "## My second markdown heading"
   ]
  },
  {
   "cell_type": "markdown",
   "id": "058d872a-ed8c-4a7f-afe7-383d75218dc1",
   "metadata": {},
   "source": [
    "this is some **bold** text"
   ]
  },
  {
   "cell_type": "markdown",
   "id": "840a8863-9260-4f6e-b8bd-bc14f9717668",
   "metadata": {},
   "source": [
    "1. First item\n",
    "2. Second item\n",
    "3. third item"
   ]
  },
  {
   "cell_type": "code",
   "execution_count": 3,
   "id": "71b77154-a410-410a-982a-e359fd6ebf25",
   "metadata": {},
   "outputs": [],
   "source": [
    "my_var = 5"
   ]
  },
  {
   "cell_type": "code",
   "execution_count": 4,
   "id": "301b66e6-06eb-4469-b40f-b46f9865cd1c",
   "metadata": {},
   "outputs": [
    {
     "name": "stdout",
     "output_type": "stream",
     "text": [
      "10\n"
     ]
    }
   ],
   "source": [
    "result= my_var * 2\n",
    "print (result)"
   ]
  },
  {
   "cell_type": "code",
   "execution_count": null,
   "id": "22e9c160-d6cc-41bd-9078-124bcb5e0581",
   "metadata": {},
   "outputs": [],
   "source": []
  }
 ],
 "metadata": {
  "kernelspec": {
   "display_name": "Python 3 (ipykernel)",
   "language": "python",
   "name": "python3"
  },
  "language_info": {
   "codemirror_mode": {
    "name": "ipython",
    "version": 3
   },
   "file_extension": ".py",
   "mimetype": "text/x-python",
   "name": "python",
   "nbconvert_exporter": "python",
   "pygments_lexer": "ipython3",
   "version": "3.10.9"
  }
 },
 "nbformat": 4,
 "nbformat_minor": 5
}
